{
 "cells": [
  {
   "cell_type": "code",
   "execution_count": 1,
   "metadata": {
    "collapsed": true
   },
   "outputs": [],
   "source": [
    "from random import Random\n",
    "from math import ceil, sqrt\n",
    "SEED = 5"
   ]
  },
  {
   "cell_type": "code",
   "execution_count": 5,
   "outputs": [],
   "source": [
    "def generate_pnts(N = 1000):\n",
    "    data_x = [Random(5).uniform(a=0, b=1) for _ in range(N)]\n",
    "    data_y = [Random(5).uniform(a=0, b=1) for _ in range(N)]\n",
    "    return data_x, data_y"
   ],
   "metadata": {
    "collapsed": false
   }
  },
  {
   "cell_type": "code",
   "execution_count": 3,
   "outputs": [],
   "source": [
    "def calc_gradients(x_p, y_p, batch_x, batch_y):\n",
    "    sum_x , sum_y = 0, 0\n",
    "    c = -1/len(batch_x)\n",
    "    for x_i, y_i in zip(batch_x, batch_y):\n",
    "        inv_sqrt = ( (x_i-x_p) ** 2 + (y_i-y_p) ** 2 ) ** (-0.5)\n",
    "        sum_x += inv_sqrt*(x_i -x_p)\n",
    "        sum_y += inv_sqrt*(y_i - y_p)\n",
    "    return c*sum_x, c*sum_y"
   ],
   "metadata": {
    "collapsed": false
   }
  },
  {
   "cell_type": "code",
   "execution_count": 4,
   "outputs": [],
   "source": [
    "def loss(x_p, y_p, batch_x, batch_y):\n",
    "    return (1/len(batch_x)) * sum(\n",
    "        [sqrt( (x_i - x_p)**2 + (y_i - y_p)**2) for x_i, y_i in zip(batch_x, batch_y)]\n",
    "            )\n"
   ],
   "metadata": {
    "collapsed": false
   }
  },
  {
   "cell_type": "code",
   "execution_count": 34,
   "outputs": [],
   "source": [
    "data_x, data_y = generate_pnts()\n",
    "Sampler = Random(x=SEED)\n",
    "EPOCHS = 100 # number of times to visit the whole dataset not a batch of the data set\n",
    "BATCH_sz = 4 # in sgd, number of points contributing to gradient estimation in one update\n",
    "\"\"\"\n",
    "while iterating through the data we divide it into batches of 4\n",
    "we want to make sure the algorithm  sees all the data points in the dataset\n",
    "so we make shuffling to the the indexes\n",
    "\"\"\"\n",
    "NUM_BATCHES = ceil(len(data_x)/BATCH_sz)\n",
    "\"\"\"\n",
    "NUM_BATCHES : SIZE OF DATASET / BATCH SIZE rounding up to the nearest integer to be able to iterate\n",
    "\"\"\"\n",
    "indices = [ i for i in range(len(data_x))]\n",
    "\"\"\"\n",
    "We iterate on all the batches for each epoch\n",
    "i.e. we see the whole data in each epoch\n",
    "i.e. we see a shuffled part of the data for each batch of the data\n",
    "\"\"\"\n",
    "DELTA = 1e-1\n",
    "x_p_sgd, y_p_sgd = 0.3, 0.3\n",
    "x_p_gd, y_p_gd = 0.3, 0.3\n",
    "losses_sgd = []\n",
    "losses_sgd_batch = []\n",
    "losses_gd = []\n",
    "for _ in range(EPOCHS):\n",
    "    Sampler.shuffle(indices) # shuffles inplace\n",
    "    #print(indices[:10])   to make sure that the seeding is working\n",
    "    #break\n",
    "\n",
    "    #SGD\n",
    "    for batch_ind in range(NUM_BATCHES):\n",
    "        batch_indices = indices[batch_ind * BATCH_sz : (batch_ind+1) * BATCH_sz]\n",
    "        \"\"\"\n",
    "        we want to take the data of size equal to the batch size\n",
    "        notice that in python slicing the stop index is exclusive\n",
    "        while the start index is inclusive\n",
    "        \"\"\"\n",
    "        batch_x = [data_x[i] for i in  batch_indices]\n",
    "        batch_y = [data_y[i] for i in batch_indices]\n",
    "        #calculate gradients for the batch\n",
    "        grad_x_sgd, grad_y_sgd = calc_gradients(x_p_sgd,y_p_sgd\n",
    "                                                ,batch_x,batch_y)\n",
    "        # updating\n",
    "        x_p_sgd -= DELTA * grad_x_sgd\n",
    "        y_p_sgd -= DELTA * grad_y_sgd\n",
    "\n",
    "        #losses\n",
    "        \"\"\"\n",
    "        Dr said that we are interissted in the loss for the whole data not for a randomly generated shuffled batches thats why we are passing the whole data not the batch data\n",
    "        This contrasts what I have learned by Andrew Ng so I need to discuss this in the lecture and see the learning curve as well\n",
    "        \"\"\"\n",
    "        losses_sgd.append(loss(x_p_sgd, y_p_sgd, data_x, data_y))\n",
    "\n",
    "        # andrew : expecting a decreasing trend but more stochastic behaviour on plotting\n",
    "        losses_sgd_batch.append(loss(x_p_sgd, y_p_sgd, batch_x, batch_y))\n",
    "\n",
    "    #GD\n",
    "\n",
    "    #calculate gradients for the batch\n",
    "    grad_x_gd, grad_y_gd = calc_gradients(x_p_gd,y_p_gd\n",
    "                                            ,data_x,data_y)\n",
    "    # updating\n",
    "    x_p_gd -= DELTA * grad_x_gd\n",
    "    y_p_gd -= DELTA * grad_y_gd\n",
    "    losses_gd.append(loss(x_p_gd, y_p_gd, data_x, data_y))\n"
   ],
   "metadata": {
    "collapsed": false
   }
  },
  {
   "cell_type": "code",
   "execution_count": 37,
   "outputs": [
    {
     "data": {
      "text/plain": "[<matplotlib.lines.Line2D at 0x21b788ae250>]"
     },
     "execution_count": 37,
     "metadata": {},
     "output_type": "execute_result"
    },
    {
     "data": {
      "text/plain": "<Figure size 720x720 with 1 Axes>",
      "image/png": "[encoded data removed]"
     },
     "metadata": {
      "needs_background": "light"
     },
     "output_type": "display_data"
    }
   ],
   "source": [
    "from matplotlib.pyplot import figure\n",
    "fig = figure(figsize = (10,10))\n",
    "ax = fig.add_subplot(1,1,1)\n",
    "ax.plot(losses_sgd,\"r\")\n",
    "ax.plot([ i*NUM_BATCHES for i in range(len(losses_gd))],losses_gd, \"b\")\n",
    "ax.plot(losses_sgd_batch,\"y\")"
   ],
   "metadata": {
    "collapsed": false
   }
  }
 ],
 "metadata": {
  "kernelspec": {
   "display_name": "Python 3",
   "language": "python",
   "name": "python3"
  },
  "language_info": {
   "codemirror_mode": {
    "name": "ipython",
    "version": 2
   },
   "file_extension": ".py",
   "mimetype": "text/x-python",
   "name": "python",
   "nbconvert_exporter": "python",
   "pygments_lexer": "ipython2",
   "version": "2.7.6"
  }
 },
 "nbformat": 4,
 "nbformat_minor": 0
}
